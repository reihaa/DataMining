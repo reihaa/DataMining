{
 "cells": [
  {
   "cell_type": "markdown",
   "metadata": {},
   "source": [
    "# Data Mining Project\n",
    "\n",
    "## Reyhaneh Derafshi - 610396098\n",
    "\n"
   ]
  },
  {
   "cell_type": "markdown",
   "metadata": {},
   "source": [
    "### Introduction: \n",
    "In this project we build a classifier for data stream classification. \n",
    "We first preprosses our data. then change our offline data to data stream.\n",
    "\n",
    "After that we build a classifier which simulate this task by training each arriving sample K times, which is drawn by the binomial distribution. Since we can consider the data stream to be infinite, and knowing that with infinite samples the binomial distribution Binomial(p,N) tends to a Possion(lambda) disterbution, where lambda = Np. Lambda is computed by tracking the total weights of the correctly and misclassified examples.\n",
    "\n",
    "We train our classifier with 13000 samples, then we make windows each contains 200 samples of data stream.\n",
    "to maintain most up-to-date classifiers is not a good chance because discarding of earlier trained less accurate classifier may lead to loss of important information. This technique shows the importance of data distribution in the expiration of the old data which avoids overfitting and the concept of conflicting problem.\n",
    "\n",
    "In each iteration we update our classifier and estimate its functioning. A plot at the end of thic doc indicates this information.\n",
    "\n"
   ]
  },
  {
   "cell_type": "markdown",
   "metadata": {},
   "source": [
    "### Code Explaination: \n",
    "Adding headers to our csv files, initializing train set and test set"
   ]
  },
  {
   "cell_type": "code",
   "execution_count": 5,
   "metadata": {
    "collapsed": true,
    "pycharm": {
     "is_executing": false
    }
   },
   "outputs": [],
   "source": [
    "from skmultiflow.data import DataStream\n",
    "from skmultiflow.lazy import KNNClassifier\n",
    "from skmultiflow.meta import OnlineBoostingClassifier, OzaBaggingClassifier\n",
    "\n",
    "import pandas as pd\n",
    "\n",
    "column_names=[\"age\", \"workclass\", \"fnlwgt\", \"education\", \"education-num\", \"marital-status\", \"occupation\", \"relationship\", \"race\", \"sex\", \"capital-gain\", \"capital-loss\", \"hours-per-week\", \"native-country\", \"class\"]\n",
    "train_data = pd.read_csv(\"adult_train.csv\", names=column_names)\n",
    "test_data = pd.read_csv(\"adult_test.csv\", names=column_names)\n",
    "test_data = test_data.drop(index=0)"
   ]
  },
  {
   "cell_type": "markdown",
   "metadata": {},
   "source": [
    "In this section we clean the data. we eliminate records that have missing values. Then we normalize the data by\n",
    "Convert categorical variable into indicator variables. After that we convert out data to data stream."
   ]
  },
  {
   "cell_type": "code",
   "execution_count": 6,
   "metadata": {
    "pycharm": {
     "is_executing": false,
     "name": "#%%\n"
    }
   },
   "outputs": [],
   "source": [
    "for column_name in column_names:\n",
    "    test_data = test_data.drop(test_data[test_data[column_name] == ' ?'].index)\n",
    "    train_data = train_data.drop(train_data[train_data[column_name] == ' ?'].index)\n",
    "\n",
    "train_size = train_data.shape[0]\n",
    "\n",
    "data = pd.get_dummies(pd.concat([train_data, test_data]))\n",
    "\n",
    "train_data = data[: train_size]\n",
    "test_data = data[train_size: ]\n",
    "\n",
    "train_data_stream = DataStream(train_data)\n",
    "test_data_stream = DataStream(test_data)"
   ]
  },
  {
   "cell_type": "markdown",
   "metadata": {},
   "source": [
    "making our classifier, Online Boosting ensemble classifier.\n",
    "Online Boosting is the online version of the boosting ensemble method (AdaBoost).\n",
    "AdaBoost focuses more on difficult examples. The misclassified examples by the current classifier h_m are given more weights in the training set of the following learner h_m+1.\n",
    "\n",
    "Parameters:\n",
    "\n",
    "1. base_estimator: skmultiflow.core.BaseSKMObject or sklearn.BaseEstimator (default=KNNADWINClassifier)\n",
    "Each member of the ensemble is an instance of the base estimator.\n",
    "\n",
    "2. n_estimators: int, optional (default=10)\n",
    "The size of the ensemble, in other words, how many classifiers to train.\n",
    "\n",
    "After that we train our clf for the first time with 13000 samples. Then we partially fit the model with partial_fit method.\n",
    "\n",
    "partial_fit(self, X, y[, classes, sample_weight]) : Partially fits the model, based on the X and y matrix."
   ]
  },
  {
   "cell_type": "code",
   "execution_count": null,
   "metadata": {
    "pycharm": {
     "is_executing": false,
     "name": "#%%\n"
    }
   },
   "outputs": [],
   "source": [
    "clf = OnlineBoostingClassifier(base_estimator=KNNADWINClassifier(n_neighbors=8, max_window_size=2000, leaf_size=30), n_estimators=2)\n",
    "X, y = train_data_stream.next_sample(13000)\n",
    "clf = clf.partial_fit(X, y, classes=train_data_stream.target_values)"
   ]
  },
  {
   "cell_type": "markdown",
   "metadata": {},
   "source": [
    "Here we create out windows. each window contains window_size number of samples. at each iteration we predict class for our window. then we estimate our answer and update chart.\n",
    "\n",
    "predict(self, X): The predict function will average the predictions from all its learners to find the most likely prediction for the sample matrix X.\n"
   ]
  },
  {
   "cell_type": "code",
   "execution_count": null,
   "metadata": {
    "pycharm": {
     "is_executing": false,
     "name": "#%%\n"
    }
   },
   "outputs": [],
   "source": [
    "sample_count = 0\n",
    "corrects = 0\n",
    "window_size = 200\n",
    "chart = []\n",
    "while test_data_stream.has_more_samples():\n",
    "    X, y = test_data_stream.next_sample(window_size)\n",
    "    pred = clf.predict(X)\n",
    "    if pred is not None:\n",
    "        for j in range(len(pred)):\n",
    "            if y[j] == pred[j]:\n",
    "                corrects += 1\n",
    "    sample_count += len(y)\n",
    "    chart.append((sample_count, corrects / sample_count))\n",
    "    clf = clf.partial_fit(X, y)\n"
   ]
  },
  {
   "cell_type": "markdown",
   "metadata": {},
   "source": [
    "### output : \n",
    "### Learning Rate\n",
    "Line graph below illustrates our classification functioning."
   ]
  },
  {
   "cell_type": "code",
   "execution_count": 12,
   "metadata": {
    "pycharm": {
     "is_executing": false,
     "name": "#%%\n"
    }
   },
   "outputs": [
    {
     "name": "stdout",
     "output_type": "stream",
     "text": [
      "(200, 400, 600, 800, 1000, 1200, 1400, 1600, 1800, 2000, 2200, 2400, 2600, 2800, 3000, 3200, 3400, 3600, 3800, 4000, 4200, 4400, 4600, 4800, 5000, 5200, 5400, 5600, 5800, 6000, 6200, 6400, 6600, 6800, 7000, 7200, 7400, 7600, 7800, 8000, 8200, 8400, 8600, 8800, 9000, 9200, 9400, 9600, 9800, 10000, 10200, 10400, 10600, 10800, 11000, 11200, 11400, 11600, 11800, 12000, 12200, 12400, 12600, 12800, 13000, 13200, 13400, 13600, 13800, 14000, 14200, 14400, 14600, 14800, 15000, 15060)\n"
     ]
    },
    {
     "data": {
      "text/plain": [
       "[<matplotlib.lines.Line2D at 0x7f539dc2f340>]"
      ]
     },
     "execution_count": 12,
     "metadata": {},
     "output_type": "execute_result"
    },
    {
     "data": {
      "image/png": "[encoded data removed]",
      "text/plain": [
       "<Figure size 432x288 with 1 Axes>"
      ]
     },
     "metadata": {
      "needs_background": "light"
     },
     "output_type": "display_data"
    }
   ],
   "source": [
    "from matplotlib.pyplot import plot\n",
    "\n",
    "x, y = zip(*chart)\n",
    "print(x)\n",
    "plot(x, y)"
   ]
  }
 ],
 "metadata": {
  "kernelspec": {
   "display_name": "Python 3",
   "language": "python",
   "name": "python3"
  },
  "language_info": {
   "codemirror_mode": {
    "name": "ipython",
    "version": 3
   },
   "file_extension": ".py",
   "mimetype": "text/x-python",
   "name": "python",
   "nbconvert_exporter": "python",
   "pygments_lexer": "ipython3",
   "version": "3.8.10"
  },
  "pycharm": {
   "stem_cell": {
    "cell_type": "raw",
    "metadata": {
     "collapsed": false
    },
    "source": []
   }
  }
 },
 "nbformat": 4,
 "nbformat_minor": 1
}
